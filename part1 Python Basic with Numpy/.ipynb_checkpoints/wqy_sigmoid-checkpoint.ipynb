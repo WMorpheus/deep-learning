{
 "cells": [
  {
   "cell_type": "code",
   "execution_count": 3,
   "metadata": {},
   "outputs": [],
   "source": [
    "import numpy as np\n",
    "\n",
    "def wqy_sigmoid(x):\n",
    "    s=1.0/(1+1/np.exp(x))\n",
    "    return s"
   ]
  },
  {
   "cell_type": "code",
   "execution_count": 4,
   "metadata": {},
   "outputs": [],
   "source": [
    "x=np.array([1,2,3])"
   ]
  },
  {
   "cell_type": "code",
   "execution_count": 5,
   "metadata": {},
   "outputs": [
    {
     "data": {
      "text/plain": [
       "array([ 0.73105858,  0.88079708,  0.95257413])"
      ]
     },
     "execution_count": 5,
     "metadata": {},
     "output_type": "execute_result"
    }
   ],
   "source": [
    "wqy_sigmoid(x)"
   ]
  },
  {
   "cell_type": "code",
   "execution_count": 6,
   "metadata": {},
   "outputs": [],
   "source": [
    "def sigmoid_derivative(x):\n",
    "    s=wqy_sigmoid(x)\n",
    "    ds=s*(1-s)\n",
    "    return ds"
   ]
  },
  {
   "cell_type": "code",
   "execution_count": 7,
   "metadata": {},
   "outputs": [
    {
     "data": {
      "text/plain": [
       "array([ 0.19661193,  0.10499359,  0.04517666])"
      ]
     },
     "execution_count": 7,
     "metadata": {},
     "output_type": "execute_result"
    }
   ],
   "source": [
    "sigmoid_derivative(x)"
   ]
  },
  {
   "cell_type": "code",
   "execution_count": 8,
   "metadata": {},
   "outputs": [],
   "source": [
    "#测试reshape()函数\n",
    "def image2vector(image):\n",
    "    v=image.reshape((image.shape[0]*image.shape[1]*image.shape[2],1))\n",
    "    return v"
   ]
  },
  {
   "cell_type": "code",
   "execution_count": 9,
   "metadata": {},
   "outputs": [
    {
     "data": {
      "text/plain": [
       "array([[ 0.67826139],\n",
       "       [ 0.29380381],\n",
       "       [ 0.90714982],\n",
       "       [ 0.52835647],\n",
       "       [ 0.4215251 ],\n",
       "       [ 0.45017551],\n",
       "       [ 0.92814219],\n",
       "       [ 0.96677647],\n",
       "       [ 0.85304703],\n",
       "       [ 0.52351845],\n",
       "       [ 0.19981397],\n",
       "       [ 0.27417313],\n",
       "       [ 0.60659855],\n",
       "       [ 0.00533165],\n",
       "       [ 0.10820313],\n",
       "       [ 0.49978937],\n",
       "       [ 0.34144279],\n",
       "       [ 0.94630077]])"
      ]
     },
     "execution_count": 9,
     "metadata": {},
     "output_type": "execute_result"
    }
   ],
   "source": [
    "image = np.array([[[ 0.67826139,  0.29380381],\n",
    "        [ 0.90714982,  0.52835647],\n",
    "        [ 0.4215251 ,  0.45017551]],\n",
    "\n",
    "       [[ 0.92814219,  0.96677647],\n",
    "        [ 0.85304703,  0.52351845],\n",
    "        [ 0.19981397,  0.27417313]],\n",
    "\n",
    "       [[ 0.60659855,  0.00533165],\n",
    "        [ 0.10820313,  0.49978937],\n",
    "        [ 0.34144279,  0.94630077]]])\n",
    "image2vector(image)"
   ]
  },
  {
   "cell_type": "code",
   "execution_count": 10,
   "metadata": {},
   "outputs": [],
   "source": [
    "#按行标准化\n",
    "def normalizeRows(x):\n",
    "    x_norm=np.linalg.norm(x,axis=1,keepdims=True)\n",
    "    return x/x_norm"
   ]
  },
  {
   "cell_type": "code",
   "execution_count": 11,
   "metadata": {},
   "outputs": [
    {
     "name": "stdout",
     "output_type": "stream",
     "text": [
      "[[ 0.          0.6         0.8       ]\n",
      " [ 0.13736056  0.82416338  0.54944226]]\n"
     ]
    }
   ],
   "source": [
    "x=np.array([\n",
    "    [0,3,4],\n",
    "    [1,6,4]])\n",
    "print(normalizeRows(x))"
   ]
  },
  {
   "cell_type": "code",
   "execution_count": 12,
   "metadata": {},
   "outputs": [],
   "source": [
    "#softmax标准化\n",
    "def softmax(x):\n",
    "    expx=np.exp(x)\n",
    "    x_norm=np.linalg.norm(expx,axis=1,keepdims=True)\n",
    "    return expx/x_norm"
   ]
  },
  {
   "cell_type": "code",
   "execution_count": 13,
   "metadata": {},
   "outputs": [
    {
     "data": {
      "text/plain": [
       "array([[  9.99831880e-01,   9.11728660e-04,   1.83125597e-02,\n",
       "          1.23389056e-04,   1.23389056e-04],\n",
       "       [  9.90964875e-01,   1.34112512e-01,   9.03642998e-04,\n",
       "          9.03642998e-04,   9.03642998e-04]])"
      ]
     },
     "execution_count": 13,
     "metadata": {},
     "output_type": "execute_result"
    }
   ],
   "source": [
    "x = np.array([\n",
    "    [9, 2, 5, 0, 0],\n",
    "    [7, 5, 0, 0 ,0]])\n",
    "softmax(x)"
   ]
  },
  {
   "cell_type": "code",
   "execution_count": 14,
   "metadata": {},
   "outputs": [],
   "source": [
    "def L1(y,yhat):\n",
    "    loss=np.sum(np.abs(y-yhat))\n",
    "    return loss\n",
    "\n",
    "def L2(y,yhat):\n",
    "    loss=np.sum(np.power((y-yhat),2))\n",
    "    return loss"
   ]
  },
  {
   "cell_type": "code",
   "execution_count": 15,
   "metadata": {},
   "outputs": [
    {
     "name": "stdout",
     "output_type": "stream",
     "text": [
      "L1 = 1.1\n",
      "L2=0.43\n"
     ]
    }
   ],
   "source": [
    "yhat = np.array([.9, 0.2, 0.1, .4, .9])\n",
    "y = np.array([1, 0, 0, 1, 1])\n",
    "print(\"L1 = \" + str(L1(y,yhat)))\n",
    "print('L2='+str(L2(y,yhat)))"
   ]
  },
  {
   "cell_type": "code",
   "execution_count": 16,
   "metadata": {},
   "outputs": [],
   "source": [
    "import numpy as np\n",
    "import matplotlib.pyplot as plt\n",
    "import h5py\n",
    "import scipy\n",
    "from PIL import Image\n",
    "from scipy import ndimage\n",
    "from lr_utils import load_dataset"
   ]
  },
  {
   "cell_type": "code",
   "execution_count": 17,
   "metadata": {},
   "outputs": [],
   "source": [
    "train_set_x_orig, train_set_y, test_set_x_orig, test_set_y, classes = load_dataset()"
   ]
  },
  {
   "cell_type": "code",
   "execution_count": 18,
   "metadata": {},
   "outputs": [
    {
     "name": "stdout",
     "output_type": "stream",
     "text": [
      "(209, 64, 64, 3)\n",
      "(1, 209)\n",
      "(50, 64, 64, 3)\n",
      "(1, 50)\n"
     ]
    }
   ],
   "source": [
    "print(train_set_x_orig.shape)\n",
    "print(train_set_y.shape)\n",
    "print(test_set_x_orig.shape)\n",
    "print(test_set_y.shape)"
   ]
  },
  {
   "cell_type": "code",
   "execution_count": 19,
   "metadata": {},
   "outputs": [
    {
     "name": "stdout",
     "output_type": "stream",
     "text": [
      "[b'non-cat' b'cat']\n"
     ]
    }
   ],
   "source": [
    "print(classes)"
   ]
  },
  {
   "cell_type": "code",
   "execution_count": 20,
   "metadata": {},
   "outputs": [
    {
     "name": "stdout",
     "output_type": "stream",
     "text": [
      "[0]\n"
     ]
    },
    {
     "data": {
      "image/png": "[encoded data removed]",
      "text/plain": [
       "<matplotlib.figure.Figure at 0x1796ee48>"
      ]
     },
     "metadata": {},
     "output_type": "display_data"
    }
   ],
   "source": [
    "plt.imshow(train_set_x_orig[21])\n",
    "print(train_set_y[:,21])"
   ]
  },
  {
   "cell_type": "code",
   "execution_count": 21,
   "metadata": {},
   "outputs": [
    {
     "name": "stdout",
     "output_type": "stream",
     "text": [
      "(209, 12288)\n"
     ]
    }
   ],
   "source": [
    "#-1表示剩余所有维数成为一列\n",
    "train_set_x_testReshape=train_set_x_orig.reshape(train_set_x_orig.shape[0],-1)\n",
    "print(train_set_x_testReshape.shape)"
   ]
  },
  {
   "cell_type": "code",
   "execution_count": 22,
   "metadata": {},
   "outputs": [],
   "source": [
    "train_num=train_set_x_orig.shape[0]   #训练集数目\n",
    "train_set_x_flatten=train_set_x_orig.reshape(train_num,-1).T\n",
    "train_set_x=train_set_x_flatten/255   #像素值为0-255\n",
    "test_num=test_set_x_orig.shape[0]     #测试集数目\n",
    "test_set_x_flatten=test_set_x_orig.reshape(test_num,-1).T\n",
    "test_set_x=test_set_x_flatten/255"
   ]
  },
  {
   "cell_type": "code",
   "execution_count": 23,
   "metadata": {},
   "outputs": [],
   "source": [
    "#定义sigmoid函数\n",
    "def sigmoid(z):\n",
    "    a=1.0/(1+1/np.exp(z))\n",
    "    return a"
   ]
  },
  {
   "cell_type": "code",
   "execution_count": 24,
   "metadata": {},
   "outputs": [
    {
     "name": "stdout",
     "output_type": "stream",
     "text": [
      "[ 0.5         0.88079708]\n"
     ]
    }
   ],
   "source": [
    "print(sigmoid(np.array([0,2])))"
   ]
  },
  {
   "cell_type": "code",
   "execution_count": 25,
   "metadata": {},
   "outputs": [],
   "source": [
    "#以0向量初始化参数\n",
    "def initialize_parameter_with_zero(dim):\n",
    "    w=np.zeros((dim,0))\n",
    "    b=0\n",
    "    return w,b"
   ]
  },
  {
   "cell_type": "code",
   "execution_count": 26,
   "metadata": {},
   "outputs": [],
   "source": [
    "def propagation(w,b,X,Y):\n",
    "    m=X.shape[1]   #训练集数目\n",
    "    \n",
    "    Z=np.dot(w.T,X)+b\n",
    "    A=sigmoid(Z)\n",
    "    \n",
    "    cost=-1.0/m*np.sum((Y*np.log(A)+(1-Y)*np.log(1-A)))\n",
    "    \n",
    "    dw=1/m*np.dot(X,(A-Y).T)\n",
    "    db=1/m*np.sum(A-Y)\n",
    "\n",
    "    return cost,dw,db"
   ]
  },
  {
   "cell_type": "code",
   "execution_count": 27,
   "metadata": {},
   "outputs": [
    {
     "name": "stdout",
     "output_type": "stream",
     "text": [
      "5.80154531939\n",
      "[[ 0.99845601]\n",
      " [ 2.39507239]]\n",
      "0.00145557813678\n"
     ]
    }
   ],
   "source": [
    "w, b, X, Y = np.array([[1.],[2.]]), 2., np.array([[1.,2.,-1.],[3.,4.,-3.2]]), np.array([[1,0,1]])\n",
    "cost,dw,db=propagation(w,b,X,Y)\n",
    "print(cost)\n",
    "print(dw)\n",
    "print(db)\n"
   ]
  },
  {
   "cell_type": "code",
   "execution_count": 70,
   "metadata": {},
   "outputs": [],
   "source": [
    "def optimize(w,b,X,Y,iteration_num,learning_rate,print_cost=False):\n",
    "    \n",
    "    costs=[]\n",
    "    \n",
    "    for i in range(iteration_num):\n",
    "        cost,dw,db=propagation(w,b,X,Y)\n",
    "        \n",
    "        w=w-learning_rate*dw\n",
    "        b=b-learning_rate*db\n",
    "        \n",
    "        if i%100==0:\n",
    "            costs.append(cost)\n",
    "            \n",
    "        if i%100==0 and print_cost==True:\n",
    "            \n",
    "            print(str(i)+' iteration num get cost '+str(cost))\n",
    "            \n",
    "    return costs,w,b,dw,db,cost"
   ]
  },
  {
   "cell_type": "code",
   "execution_count": 71,
   "metadata": {},
   "outputs": [
    {
     "name": "stdout",
     "output_type": "stream",
     "text": [
      "0 iteration num get cost 0.807735633771\n",
      "100 iteration num get cost 0.716657987967\n",
      "[[-0.08718203]\n",
      " [ 0.10848629]]\n",
      "-0.14293382676\n",
      "0.716657987967\n"
     ]
    }
   ],
   "source": [
    "costs,w,b,dw,db,cost=optimize(w,b,X,Y,101,0.009,print_cost=True)\n",
    "print(w)\n",
    "print(b)\n",
    "print(cost)"
   ]
  },
  {
   "cell_type": "code",
   "execution_count": 72,
   "metadata": {},
   "outputs": [],
   "source": [
    "def predict(w,b,X):\n",
    "    \n",
    "    num=X.shape[1]\n",
    "    Y_prediction=np.zeros((1,num))\n",
    "    \n",
    "    A=sigmoid(np.dot(w.T,X)+b)\n",
    "    \n",
    "    for i in range(num):\n",
    "        if A[0][i]<0.5:\n",
    "            Y_prediction[0][i]=0\n",
    "        else:\n",
    "            Y_prediction[0][i]=1\n",
    "    \n",
    "    return Y_prediction        "
   ]
  },
  {
   "cell_type": "code",
   "execution_count": 73,
   "metadata": {},
   "outputs": [
    {
     "name": "stdout",
     "output_type": "stream",
     "text": [
      "predictions = [[ 1.  1.  0.]]\n"
     ]
    }
   ],
   "source": [
    "w = np.array([[0.1124579],[0.23106775]])\n",
    "b = -0.3\n",
    "X = np.array([[1.,-1.1,-3.2],[1.2,2.,0.1]])\n",
    "print (\"predictions = \" + str(predict(w, b, X)))"
   ]
  },
  {
   "cell_type": "code",
   "execution_count": 74,
   "metadata": {},
   "outputs": [],
   "source": [
    "def model(X_train,Y_train,X_test,Y_test,iteration_num=2000,learning_rate=0.5,print_cost=False):\n",
    "    \n",
    "    dim=X_train.shape[0]\n",
    "    train_num=X_train.shape[1]\n",
    "    \n",
    "    w=np.zeros((dim,1))\n",
    "    b=0\n",
    "    \n",
    "    costs,w,b,dw,db,cost=optimize(w,b,X_train,Y_train,iteration_num,learning_rate,print_cost)\n",
    "    \n",
    "    train_Y_prediction=predict(w,b,X_train)\n",
    "    train_correction=1-np.sum(np.abs(Y_train-train_Y_prediction))/train_num\n",
    "    test_num=X_test.shape[1]\n",
    "    test_Y_prediction=predict(w,b,X_test)\n",
    "    test_correction=1-np.sum(np.abs(Y_test-test_Y_prediction))/test_num\n",
    "    \n",
    "    print('train set correction rate is '+str(train_correction))\n",
    "    print('test set correction rate is '+str(test_correction))\n",
    "    \n",
    "    d={\n",
    "        'costs':costs,\n",
    "        'train_Y_prediction':train_Y_prediction,\n",
    "        'test_Y_prediction':test_Y_prediction,\n",
    "        'w':w,\n",
    "        'b':b,\n",
    "        'learning_rate':learning_rate,\n",
    "        'iteration_num':iteration_num\n",
    "    }\n",
    "    return d\n",
    "    "
   ]
  },
  {
   "cell_type": "code",
   "execution_count": 75,
   "metadata": {},
   "outputs": [
    {
     "name": "stdout",
     "output_type": "stream",
     "text": [
      "0 iteration num get cost 0.69314718056\n",
      "100 iteration num get cost 0.584508363699\n",
      "200 iteration num get cost 0.466949040947\n",
      "300 iteration num get cost 0.376006866948\n",
      "400 iteration num get cost 0.331463289328\n",
      "500 iteration num get cost 0.303273067474\n",
      "600 iteration num get cost 0.279879586583\n",
      "700 iteration num get cost 0.260042136926\n",
      "800 iteration num get cost 0.242940684678\n",
      "900 iteration num get cost 0.228004222567\n",
      "1000 iteration num get cost 0.214819513784\n",
      "1100 iteration num get cost 0.203078190606\n",
      "1200 iteration num get cost 0.192544277167\n",
      "1300 iteration num get cost 0.183033337969\n",
      "1400 iteration num get cost 0.174398594384\n",
      "1500 iteration num get cost 0.166521397054\n",
      "1600 iteration num get cost 0.159304518298\n",
      "1700 iteration num get cost 0.152667324713\n",
      "1800 iteration num get cost 0.14654223504\n",
      "1900 iteration num get cost 0.140872075703\n",
      "train set correction rate is 0.99043062201\n",
      "test set correction rate is 0.7\n"
     ]
    }
   ],
   "source": [
    "d=model(train_set_x,train_set_y,test_set_x,test_set_y,learning_rate=0.005,print_cost=True)"
   ]
  },
  {
   "cell_type": "code",
   "execution_count": 76,
   "metadata": {},
   "outputs": [
    {
     "name": "stdout",
     "output_type": "stream",
     "text": [
      "[1]\n",
      "[ 0.]\n"
     ]
    },
    {
     "data": {
      "image/png": "[encoded data removed]",
      "text/plain": [
       "<matplotlib.figure.Figure at 0x17a41780>"
      ]
     },
     "metadata": {},
     "output_type": "display_data"
    }
   ],
   "source": [
    "index=10\n",
    "plt.imshow(test_set_x_orig[index])\n",
    "print(test_set_y[:,index])\n",
    "print(d['test_Y_prediction'][:,index])"
   ]
  },
  {
   "cell_type": "code",
   "execution_count": 77,
   "metadata": {},
   "outputs": [
    {
     "name": "stdout",
     "output_type": "stream",
     "text": [
      "[[[ 36  36  26]\n",
      "  [ 35  35  27]\n",
      "  [ 35  34  26]\n",
      "  ..., \n",
      "  [ 11  13   8]\n",
      "  [ 11  13   8]\n",
      "  [  9  11   6]]\n",
      "\n",
      " [[ 37  36  27]\n",
      "  [ 37  36  26]\n",
      "  [ 36  35  26]\n",
      "  ..., \n",
      "  [ 12  14   9]\n",
      "  [ 11  13   8]\n",
      "  [  9  11   6]]\n",
      "\n",
      " [[ 39  36  27]\n",
      "  [ 39  36  27]\n",
      "  [ 37  36  26]\n",
      "  ..., \n",
      "  [ 12  14   9]\n",
      "  [ 11  13   8]\n",
      "  [  9  11   6]]\n",
      "\n",
      " ..., \n",
      " [[ 94  94  93]\n",
      "  [107 108 109]\n",
      "  [120 122 123]\n",
      "  ..., \n",
      "  [  4   5   0]\n",
      "  [  4   5   0]\n",
      "  [  6   7   2]]\n",
      "\n",
      " [[ 92  92  91]\n",
      "  [112 113 114]\n",
      "  [121 122 124]\n",
      "  ..., \n",
      "  [  4   5   0]\n",
      "  [  4   5   0]\n",
      "  [  6   7   2]]\n",
      "\n",
      " [[ 88  88  87]\n",
      "  [111 112 114]\n",
      "  [119 120 122]\n",
      "  ..., \n",
      "  [  3   5   0]\n",
      "  [  4   5   0]\n",
      "  [  5   6   1]]]\n"
     ]
    }
   ],
   "source": [
    "print(test_set_x_orig[10])"
   ]
  },
  {
   "cell_type": "code",
   "execution_count": 78,
   "metadata": {},
   "outputs": [
    {
     "data": {
      "text/plain": [
       "[<matplotlib.lines.Line2D at 0x1b74a860>]"
      ]
     },
     "execution_count": 78,
     "metadata": {},
     "output_type": "execute_result"
    },
    {
     "data": {
      "image/png": "[encoded data removed]",
      "text/plain": [
       "<matplotlib.figure.Figure at 0x179f7208>"
      ]
     },
     "metadata": {},
     "output_type": "display_data"
    }
   ],
   "source": [
    "costs=d['costs']\n",
    "plt.plot(costs)"
   ]
  },
  {
   "cell_type": "code",
   "execution_count": 79,
   "metadata": {},
   "outputs": [
    {
     "name": "stdout",
     "output_type": "stream",
     "text": [
      "[0.69314718055994529, 0.58450836369930859, 0.46694904094655476, 0.37600686694802077, 0.33146328932825131, 0.30327306747438293, 0.27987958658260481, 0.26004213692587569, 0.2429406846779662, 0.22800422256726061, 0.2148195137844964, 0.20307819060644985, 0.19254427716706862, 0.18303333796883503, 0.17439859438448874, 0.16652139705400326, 0.15930451829756614, 0.15266732471296504, 0.14654223503982342, 0.14087207570310153]\n"
     ]
    }
   ],
   "source": [
    "print(d['costs'])"
   ]
  },
  {
   "cell_type": "code",
   "execution_count": 80,
   "metadata": {},
   "outputs": [
    {
     "name": "stdout",
     "output_type": "stream",
     "text": [
      "learning rate is 0.01\n",
      "train set correction rate is 0.995215311005\n",
      "test set correction rate is 0.7\n",
      "learning rate is 0.001\n",
      "train set correction rate is 0.913875598086\n",
      "test set correction rate is 0.68\n",
      "learning rate is 0.0001\n",
      "train set correction rate is 0.712918660287\n",
      "test set correction rate is 0.4\n"
     ]
    }
   ],
   "source": [
    "learning_rate=[0.01,0.001,0.0001]\n",
    "models=[]\n",
    "\n",
    "for i in learning_rate:\n",
    "    print('learning rate is '+str(i))\n",
    "    models.append(model(train_set_x,train_set_y,test_set_x,test_set_y,learning_rate=i,print_cost=False))\n",
    "    \n"
   ]
  },
  {
   "cell_type": "code",
   "execution_count": 83,
   "metadata": {},
   "outputs": [
    {
     "name": "stderr",
     "output_type": "stream",
     "text": [
      "No handles with labels found to put in legend.\n"
     ]
    },
    {
     "data": {
      "text/plain": [
       "<matplotlib.legend.Legend at 0x17b6bd68>"
      ]
     },
     "execution_count": 83,
     "metadata": {},
     "output_type": "execute_result"
    },
    {
     "data": {
      "image/png": "[encoded data removed]",
      "text/plain": [
       "<matplotlib.figure.Figure at 0x17b6b518>"
      ]
     },
     "metadata": {},
     "output_type": "display_data"
    }
   ],
   "source": [
    "for i in range(len(learning_rate)):\n",
    "    costs=models[i]['costs']\n",
    "    learn=models[i]['learning_rate']\n",
    "    plt.plot(costs,label=str(learn))\n",
    "#     plt.plot(costs)\n",
    "plt.ylabel('cost')\n",
    "plt.xlabel('iterations(per hundred)')\n",
    "plt.legend()"
   ]
  },
  {
   "cell_type": "code",
   "execution_count": null,
   "metadata": {},
   "outputs": [],
   "source": []
  }
 ],
 "metadata": {
  "kernelspec": {
   "display_name": "Python 3",
   "language": "python",
   "name": "python3"
  },
  "language_info": {
   "codemirror_mode": {
    "name": "ipython",
    "version": 3
   },
   "file_extension": ".py",
   "mimetype": "text/x-python",
   "name": "python",
   "nbconvert_exporter": "python",
   "pygments_lexer": "ipython3",
   "version": "3.6.1"
  }
 },
 "nbformat": 4,
 "nbformat_minor": 2
}
